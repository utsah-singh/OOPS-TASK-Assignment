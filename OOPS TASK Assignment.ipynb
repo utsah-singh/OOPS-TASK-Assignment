{
 "cells": [
  {
   "cell_type": "markdown",
   "id": "fc01a62a-da8a-4095-9158-db39c919ad0f",
   "metadata": {},
   "source": [
    "Answer = 1"
   ]
  },
  {
   "cell_type": "markdown",
   "id": "ef4e361e-c638-40d6-8e9b-7b00ee306867",
   "metadata": {},
   "source": [
    "You can create a 'Vehicle' class with an' __init__' method that initializes instance variables such as' name_of_vehicle', 'max_speed', and 'average_of_vehicle'. Here's an example of how you can define this class in Python:\n",
    "\n"
   ]
  },
  {
   "cell_type": "code",
   "execution_count": 1,
   "id": "559353ff-4fed-48eb-9508-3a1544c6718d",
   "metadata": {},
   "outputs": [
    {
     "name": "stdout",
     "output_type": "stream",
     "text": [
      "Name of Vehicle: Car\n",
      "Max Speed: 200\n",
      "Average of Vehicle: 25\n"
     ]
    }
   ],
   "source": [
    "class Vehicle:\n",
    "    def __init__(self, name_of_vehicle, max_speed, average_of_vehicle):\n",
    "        self.name_of_vehicle = name_of_vehicle\n",
    "        self.max_speed = max_speed\n",
    "        self.average_of_vehicle = average_of_vehicle\n",
    "\n",
    "# Example usage\n",
    "car = Vehicle(\"Car\", 200, 25)\n",
    "print(\"Name of Vehicle:\", car.name_of_vehicle)\n",
    "print(\"Max Speed:\", car.max_speed)\n",
    "print(\"Average of Vehicle:\", car.average_of_vehicle)"
   ]
  },
  {
   "cell_type": "markdown",
   "id": "c99dd651-e2f3-460a-bb6e-383a38bf72c5",
   "metadata": {},
   "source": [
    "In this example, we define a 'Vehicle' class with an '__init__ method that takes three parameters:' name_of_vehicle', 'max_speed', and 'average_of_vehicle'. These parameters are used to initialize the instance variables of the class. Then, we create an instance of the Vehicle class and print the values of its attributes."
   ]
  },
  {
   "cell_type": "markdown",
   "id": "91983d84-895d-44ab-94b1-82d43fba0cc9",
   "metadata": {},
   "source": [
    "Answer = 2"
   ]
  },
  {
   "cell_type": "markdown",
   "id": "8db1a5f2-11f0-45a5-9767-719a42f9c70e",
   "metadata": {},
   "source": [
    "You can create a child class 'Car' that inherits from the 'Vehicle' class and add a method 'seating_capacity' as described. Here's how you can do it:\n",
    "\n"
   ]
  },
  {
   "cell_type": "markdown",
   "id": "34591bc1-2d07-4b5c-a87a-4f0cdf56f04b",
   "metadata": {},
   "source": [
    "In this example, we've created a Car class that inherits from the Vehicle class. The Car class has its own seating_capacity method that takes the capacity as an argument and returns the name of the vehicle along with its seating capacity.\n",
    "\n",
    "When we create an instance of the Car class and call the seating_capacity method, it returns the desired output."
   ]
  },
  {
   "cell_type": "code",
   "execution_count": 5,
   "id": "5ca7a6bf-0906-4cd9-81a1-098f4e6309c3",
   "metadata": {},
   "outputs": [
    {
     "ename": "AttributeError",
     "evalue": "'Car' object has no attribute 'average_of_vehicle'",
     "output_type": "error",
     "traceback": [
      "\u001b[0;31m---------------------------------------------------------------------------\u001b[0m",
      "\u001b[0;31mAttributeError\u001b[0m                            Traceback (most recent call last)",
      "Cell \u001b[0;32mIn[5], line 15\u001b[0m\n\u001b[1;32m     12\u001b[0m         \u001b[38;5;28;01mreturn\u001b[39;00m \u001b[38;5;124mf\u001b[39m\u001b[38;5;124m\"\u001b[39m\u001b[38;5;132;01m{\u001b[39;00m\u001b[38;5;28mself\u001b[39m\u001b[38;5;241m.\u001b[39mname_of_vehicle\u001b[38;5;132;01m}\u001b[39;00m\u001b[38;5;124m has a seating capacity of \u001b[39m\u001b[38;5;132;01m{\u001b[39;00mcapacity\u001b[38;5;132;01m}\u001b[39;00m\u001b[38;5;124m passengers.\u001b[39m\u001b[38;5;124m\"\u001b[39m\n\u001b[1;32m     14\u001b[0m \u001b[38;5;66;03m# Example usage\u001b[39;00m\n\u001b[0;32m---> 15\u001b[0m car \u001b[38;5;241m=\u001b[39m \u001b[43mCar\u001b[49m\u001b[43m(\u001b[49m\u001b[38;5;124;43m\"\u001b[39;49m\u001b[38;5;124;43mCar\u001b[39;49m\u001b[38;5;124;43m\"\u001b[39;49m\u001b[43m,\u001b[49m\u001b[43m \u001b[49m\u001b[38;5;241;43m200\u001b[39;49m\u001b[43m,\u001b[49m\u001b[43m \u001b[49m\u001b[38;5;241;43m25\u001b[39;49m\u001b[43m)\u001b[49m\n\u001b[1;32m     16\u001b[0m capacity \u001b[38;5;241m=\u001b[39m \u001b[38;5;241m5\u001b[39m\n\u001b[1;32m     17\u001b[0m \u001b[38;5;28mprint\u001b[39m(car\u001b[38;5;241m.\u001b[39mseating_capacity(capacity))\n",
      "Cell \u001b[0;32mIn[5], line 9\u001b[0m, in \u001b[0;36mCar.__init__\u001b[0;34m(self, name_of_vehicle, max_speed, average_of_vehicle)\u001b[0m\n\u001b[1;32m      8\u001b[0m \u001b[38;5;28;01mdef\u001b[39;00m \u001b[38;5;21m__init__\u001b[39m(\u001b[38;5;28mself\u001b[39m, name_of_vehicle, max_speed, average_of_vehicle):\n\u001b[0;32m----> 9\u001b[0m     \u001b[38;5;28;43msuper\u001b[39;49m\u001b[43m(\u001b[49m\u001b[43m)\u001b[49m\u001b[38;5;241;43m.\u001b[39;49m\u001b[38;5;21;43m__init__\u001b[39;49m\u001b[43m(\u001b[49m\u001b[43mname_of_vehicle\u001b[49m\u001b[43m,\u001b[49m\u001b[43m \u001b[49m\u001b[43mmax_speed\u001b[49m\u001b[43m,\u001b[49m\u001b[43m \u001b[49m\u001b[43maverage_of_vehicle\u001b[49m\u001b[43m)\u001b[49m\n",
      "Cell \u001b[0;32mIn[5], line 5\u001b[0m, in \u001b[0;36mVehicle.__init__\u001b[0;34m(self, name_of_vehicle, max_speed, average_of_vehicle)\u001b[0m\n\u001b[1;32m      3\u001b[0m \u001b[38;5;28mself\u001b[39m\u001b[38;5;241m.\u001b[39mname_of_vehicle \u001b[38;5;241m=\u001b[39m name_of_vehicle\n\u001b[1;32m      4\u001b[0m \u001b[38;5;28mself\u001b[39m\u001b[38;5;241m.\u001b[39mmax_speed \u001b[38;5;241m=\u001b[39m max_speed\n\u001b[0;32m----> 5\u001b[0m \u001b[38;5;28;43mself\u001b[39;49m\u001b[38;5;241;43m.\u001b[39;49m\u001b[43maverage_of_vehicle\u001b[49m\n",
      "\u001b[0;31mAttributeError\u001b[0m: 'Car' object has no attribute 'average_of_vehicle'"
     ]
    }
   ],
   "source": [
    "\n",
    "class Vehicle:\n",
    "    def __init__(self, name_of_vehicle, max_speed, average_of_vehicle):\n",
    "        self.name_of_vehicle = name_of_vehicle\n",
    "        self.max_speed = max_speed\n",
    "        self.average_of_vehicle\n",
    "\n",
    "class Car(Vehicle):\n",
    "    def __init__(self, name_of_vehicle, max_speed, average_of_vehicle):\n",
    "        super().__init__(name_of_vehicle, max_speed, average_of_vehicle)\n",
    "\n",
    "    def seating_capacity(self, capacity):\n",
    "        return f\"{self.name_of_vehicle} has a seating capacity of {capacity} passengers.\"\n",
    "\n",
    "# Example usage\n",
    "car = Car(\"Car\", 200, 25)\n",
    "capacity = 5\n",
    "print(car.seating_capacity(capacity))"
   ]
  },
  {
   "cell_type": "markdown",
   "id": "2b9d326a-e72d-4fb5-9384-6152d391039f",
   "metadata": {},
   "source": [
    "Answer = 3"
   ]
  },
  {
   "cell_type": "markdown",
   "id": "2ad640e3-3adb-4531-b61f-f8489fbbb02c",
   "metadata": {},
   "source": [
    "Multiple inheritance is a concept in object-oriented programming where a class can inherit attributes and methods from more than one parent class. In multiple inheritance, a class can have multiple parent classes, and it can inherit properties and behaviors from all of them. This allows you to create more complex class hierarchies and reuse code from multiple sources.\n",
    "\n",
    "Here's a Python code example to demonstrate multiple inheritance:"
   ]
  },
  {
   "cell_type": "code",
   "execution_count": 1,
   "id": "1b5dba76-d946-4725-ba00-375714ccc237",
   "metadata": {},
   "outputs": [
    {
     "name": "stdout",
     "output_type": "stream",
     "text": [
      "Perry the Platypus is a platypus and makes a unique sound.\n"
     ]
    }
   ],
   "source": [
    "# Define a class 'Animal' with some attributes and methods\n",
    "class Animal:\n",
    "    def __init__(self, name):\n",
    "        self.name = name\n",
    "\n",
    "    def speak(self):\n",
    "        pass\n",
    "\n",
    "# Define a class 'Mammal' that inherits from 'Animal'\n",
    "class Mammal(Animal):\n",
    "    def speak(self):\n",
    "        return f\"{self.name} is a mammal and makes a sound.\"\n",
    "\n",
    "# Define a class 'Bird' that inherits from 'Animal'\n",
    "class Bird(Animal):\n",
    "    def speak(self):\n",
    "        return f\"{self.name} is a bird and sings a song.\"\n",
    "\n",
    "# Define a class 'Platypus' that inherits from both 'Mammal' and 'Bird'\n",
    "class Platypus(Mammal, Bird):\n",
    "    def speak(self):\n",
    "        return f\"{self.name} is a platypus and makes a unique sound.\"\n",
    "\n",
    "# Create an instance of the 'Platypus' class\n",
    "perry = Platypus(\"Perry the Platypus\")\n",
    "\n",
    "# Demonstrate multiple inheritance\n",
    "print(perry.speak())  # Output the sound of the platypus"
   ]
  },
  {
   "cell_type": "markdown",
   "id": "4aa0a13a-b872-4b18-9910-a938acec0026",
   "metadata": {},
   "source": [
    "In this example, we have the following classes:\n",
    "\n",
    "Animal: A base class with a constructor to initialize the name attribute and a speak method.\n",
    "Mammal and Bird: Two classes that inherit from Animal and override the speak method to provide specific behaviors for mammals and birds.\n",
    "Platypus: A class that inherits from both Mammal and Bird, demonstrating multiple inheritance. It overrides the speak method to provide its unique behavior.\n",
    "When we create an instance of the Platypus class and call the speak method, it invokes the speak method from the most specific subclass in the inheritance hierarchy, which is Platypus in this case. This demonstrates multiple inheritance, where a class inherits from two different parent classes."
   ]
  },
  {
   "cell_type": "markdown",
   "id": "434862b1-5a53-4009-8ce3-4dbbf86242eb",
   "metadata": {},
   "source": [
    "Answer = 4"
   ]
  },
  {
   "cell_type": "markdown",
   "id": "24588b80-6c6d-4b41-be0c-07cdf9b9ffa2",
   "metadata": {},
   "source": [
    "In Python, getters and setters are methods used to access and modify the attributes (instance variables) of a class. They are used to encapsulate the attributes of a class, providing controlled access and modification to the attributes. This is often done to ensure data integrity and to apply validation or computation when getting or setting attribute values.\n",
    "\n",
    "A getter method (also known as an accessor) is used to retrieve the value of an attribute, while a setter method (also known as a mutator) is used to set or modify the value of an attribute.\n",
    "\n",
    "Here's an example of a class with a getter and a setter method in Python:"
   ]
  },
  {
   "cell_type": "code",
   "execution_count": 2,
   "id": "e3586651-89e3-4896-9863-0f7a6f60541d",
   "metadata": {},
   "outputs": [
    {
     "name": "stdout",
     "output_type": "stream",
     "text": [
      "Original Name: Alice\n",
      "Updated Name: Bob\n",
      "Original Age: 20\n",
      "Updated Age: 25\n"
     ]
    }
   ],
   "source": [
    "class Student:\n",
    "    def __init__(self, name, age):\n",
    "        self._name = name  # Private attribute with a leading underscore\n",
    "        self._age = age\n",
    "\n",
    "    # Getter method for 'name'\n",
    "    def get_name(self):\n",
    "        return self._name\n",
    "\n",
    "    # Setter method for 'name'\n",
    "    def set_name(self, name):\n",
    "        if len(name) > 1:\n",
    "            self._name = name\n",
    "        else:\n",
    "            print(\"Name should have at least 2 characters.\")\n",
    "\n",
    "    # Getter method for 'age'\n",
    "    def get_age(self):\n",
    "        return self._age\n",
    "\n",
    "    # Setter method for 'age'\n",
    "    def set_age(self, age):\n",
    "        if 0 <= age <= 150:\n",
    "            self._age = age\n",
    "        else:\n",
    "            print(\"Age should be between 0 and 150.\")\n",
    "\n",
    "# Create an instance of the 'Student' class\n",
    "student = Student(\"Alice\", 20)\n",
    "\n",
    "# Using getter and setter methods\n",
    "print(\"Original Name:\", student.get_name())\n",
    "student.set_name(\"Bob\")\n",
    "print(\"Updated Name:\", student.get_name())\n",
    "\n",
    "print(\"Original Age:\", student.get_age())\n",
    "student.set_age(25)\n",
    "print(\"Updated Age:\", student.get_age())"
   ]
  },
  {
   "cell_type": "markdown",
   "id": "7e0ef042-d159-49a5-b5d0-ad83251ad1da",
   "metadata": {},
   "source": [
    "In this example, we have a Student class with private attributes _name and _age, and getter and setter methods for both attributes. The getter methods (get_name and get_age) allow you to retrieve the values of the attributes, while the setter methods (set_name and set_age) enable you to set new values for the attributes. The setter methods include validation logic to ensure that the provided values meet certain criteria.\n",
    "\n",
    "By using getter and setter methods, you can control access to and modification of attributes, providing a level of encapsulation and data validation for your class."
   ]
  },
  {
   "cell_type": "markdown",
   "id": "dfa82cc0-6159-4dd7-99d5-b4827eee01c3",
   "metadata": {},
   "source": [
    "Answer = 5"
   ]
  },
  {
   "cell_type": "markdown",
   "id": "729215e6-98d5-4bee-9c53-9b24068f8381",
   "metadata": {},
   "source": [
    "Method overriding in Python is a feature of object-oriented programming that allows a subclass to provide a specific implementation of a method that is already defined in its superclass. When a subclass defines a method with the same name and signature as a method in its superclass, the method in the subclass will override (replace) the method in the superclass. This allows the subclass to provide its own implementation of the method while maintaining the same method name and signature as the superclass.\n",
    "\n",
    "Here's a Python code example to demonstrate method overriding:"
   ]
  },
  {
   "cell_type": "code",
   "execution_count": 3,
   "id": "4517ea2d-941f-40e9-ae60-8d7091597e37",
   "metadata": {},
   "outputs": [
    {
     "name": "stdout",
     "output_type": "stream",
     "text": [
      "Dog says: Woof! Woof!\n",
      "Cat says: Meow!\n",
      "Cow says: This is a generic animal sound.\n"
     ]
    }
   ],
   "source": [
    "class Animal:\n",
    "    def speak(self):\n",
    "        return \"This is a generic animal sound.\"\n",
    "\n",
    "class Dog(Animal):\n",
    "    def speak(self):\n",
    "        return \"Woof! Woof!\"\n",
    "\n",
    "class Cat(Animal):\n",
    "    def speak(self):\n",
    "        return \"Meow!\"\n",
    "\n",
    "class Cow(Animal):\n",
    "    pass  # No 'speak' method defined in Cow class, so it inherits from the superclass\n",
    "\n",
    "# Create instances of different animals\n",
    "dog = Dog()\n",
    "cat = Cat()\n",
    "cow = Cow()\n",
    "\n",
    "# Demonstrate method overriding\n",
    "print(\"Dog says:\", dog.speak())  # Calls Dog's 'speak' method\n",
    "print(\"Cat says:\", cat.speak())  # Calls Cat's 'speak' method\n",
    "print(\"Cow says:\", cow.speak())  # Inherited from Animal class"
   ]
  },
  {
   "cell_type": "markdown",
   "id": "d70c0a58-47a4-4d2b-ad91-9ca776d86d5c",
   "metadata": {},
   "source": [
    "In this code:\n",
    "\n",
    "We define a base class Animal with a method speak. This method provides a generic implementation for all animals.\n",
    "\n",
    "We define three subclasses: Dog, Cat, and Cow. Each subclass overrides the speak method to provide its own implementation of how the animal speaks.\n",
    "\n",
    "When we create instances of these classes and call the speak method, the method call is dispatched to the appropriate subclass implementation, demonstrating method overriding. Each animal class has its own version of the speak method, which is invoked based on the class of the object."
   ]
  },
  {
   "cell_type": "code",
   "execution_count": null,
   "id": "92152e4f-e4e4-4b1e-8c47-961b4a55bd9d",
   "metadata": {},
   "outputs": [],
   "source": []
  }
 ],
 "metadata": {
  "kernelspec": {
   "display_name": "Python 3 (ipykernel)",
   "language": "python",
   "name": "python3"
  },
  "language_info": {
   "codemirror_mode": {
    "name": "ipython",
    "version": 3
   },
   "file_extension": ".py",
   "mimetype": "text/x-python",
   "name": "python",
   "nbconvert_exporter": "python",
   "pygments_lexer": "ipython3",
   "version": "3.10.8"
  }
 },
 "nbformat": 4,
 "nbformat_minor": 5
}
